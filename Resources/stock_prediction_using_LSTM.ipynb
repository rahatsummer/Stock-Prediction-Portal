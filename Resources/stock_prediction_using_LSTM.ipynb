{
 "cells": [
  {
   "cell_type": "code",
   "execution_count": 1,
   "id": "ea619d15-fd61-41ba-985f-d68cb9c47ede",
   "metadata": {},
   "outputs": [],
   "source": [
    "import numpy as np\n",
    "import pandas as pd\n",
    "import matplotlib.pyplot as plt\n",
    "import yfinance as yf\n",
    "from datetime import datetime"
   ]
  },
  {
   "cell_type": "markdown",
   "id": "06accd08-0f2d-4986-8dd6-bb569fbaf7fd",
   "metadata": {},
   "source": [
    "# 1. Data Collection"
   ]
  },
  {
   "cell_type": "code",
   "execution_count": null,
   "id": "78e99911-790c-4749-98e6-15d42a087e8c",
   "metadata": {},
   "outputs": [],
   "source": [
    "now = datetime.now()\n",
    "\n",
    "start = datetime(now.year-10, now.month, now.day)\n",
    "end = now\n",
    "ticker = 'AAPL'\n",
    "df = yf.download(ticker, start, end)\n",
    "df"
   ]
  },
  {
   "cell_type": "code",
   "execution_count": null,
   "id": "9e475484-7bff-4aea-9e48-846f0fb48252",
   "metadata": {},
   "outputs": [],
   "source": [
    "df.head()"
   ]
  },
  {
   "cell_type": "code",
   "execution_count": 4,
   "id": "0ea75514-a297-4354-9280-3ce88c58e2c8",
   "metadata": {},
   "outputs": [
    {
     "data": {
      "text/html": [
       "<div>\n",
       "<style scoped>\n",
       "    .dataframe tbody tr th:only-of-type {\n",
       "        vertical-align: middle;\n",
       "    }\n",
       "\n",
       "    .dataframe tbody tr th {\n",
       "        vertical-align: top;\n",
       "    }\n",
       "\n",
       "    .dataframe thead tr th {\n",
       "        text-align: left;\n",
       "    }\n",
       "\n",
       "    .dataframe thead tr:last-of-type th {\n",
       "        text-align: right;\n",
       "    }\n",
       "</style>\n",
       "<table border=\"1\" class=\"dataframe\">\n",
       "  <thead>\n",
       "    <tr>\n",
       "      <th>Price</th>\n",
       "      <th>Close</th>\n",
       "      <th>High</th>\n",
       "      <th>Low</th>\n",
       "      <th>Open</th>\n",
       "      <th>Volume</th>\n",
       "    </tr>\n",
       "    <tr>\n",
       "      <th>Ticker</th>\n",
       "      <th>AAPL</th>\n",
       "      <th>AAPL</th>\n",
       "      <th>AAPL</th>\n",
       "      <th>AAPL</th>\n",
       "      <th>AAPL</th>\n",
       "    </tr>\n",
       "    <tr>\n",
       "      <th>Date</th>\n",
       "      <th></th>\n",
       "      <th></th>\n",
       "      <th></th>\n",
       "      <th></th>\n",
       "      <th></th>\n",
       "    </tr>\n",
       "  </thead>\n",
       "  <tbody>\n",
       "    <tr>\n",
       "      <th>2025-06-05</th>\n",
       "      <td>200.630005</td>\n",
       "      <td>204.750000</td>\n",
       "      <td>200.149994</td>\n",
       "      <td>203.500000</td>\n",
       "      <td>55126100</td>\n",
       "    </tr>\n",
       "    <tr>\n",
       "      <th>2025-06-06</th>\n",
       "      <td>203.919998</td>\n",
       "      <td>205.699997</td>\n",
       "      <td>202.050003</td>\n",
       "      <td>203.000000</td>\n",
       "      <td>46607700</td>\n",
       "    </tr>\n",
       "    <tr>\n",
       "      <th>2025-06-09</th>\n",
       "      <td>201.449997</td>\n",
       "      <td>206.000000</td>\n",
       "      <td>200.020004</td>\n",
       "      <td>204.389999</td>\n",
       "      <td>72862600</td>\n",
       "    </tr>\n",
       "    <tr>\n",
       "      <th>2025-06-10</th>\n",
       "      <td>202.669998</td>\n",
       "      <td>204.350006</td>\n",
       "      <td>200.570007</td>\n",
       "      <td>200.600006</td>\n",
       "      <td>54672600</td>\n",
       "    </tr>\n",
       "    <tr>\n",
       "      <th>2025-06-11</th>\n",
       "      <td>198.779999</td>\n",
       "      <td>204.500000</td>\n",
       "      <td>198.410004</td>\n",
       "      <td>203.500000</td>\n",
       "      <td>60820200</td>\n",
       "    </tr>\n",
       "  </tbody>\n",
       "</table>\n",
       "</div>"
      ],
      "text/plain": [
       "Price            Close        High         Low        Open    Volume\n",
       "Ticker            AAPL        AAPL        AAPL        AAPL      AAPL\n",
       "Date                                                                \n",
       "2025-06-05  200.630005  204.750000  200.149994  203.500000  55126100\n",
       "2025-06-06  203.919998  205.699997  202.050003  203.000000  46607700\n",
       "2025-06-09  201.449997  206.000000  200.020004  204.389999  72862600\n",
       "2025-06-10  202.669998  204.350006  200.570007  200.600006  54672600\n",
       "2025-06-11  198.779999  204.500000  198.410004  203.500000  60820200"
      ]
     },
     "execution_count": 4,
     "metadata": {},
     "output_type": "execute_result"
    }
   ],
   "source": [
    "df.tail()"
   ]
  },
  {
   "cell_type": "markdown",
   "id": "29362b80-17e0-46aa-bb48-b533ce987f97",
   "metadata": {},
   "source": [
    "# 2. Data Exploration & Visualization"
   ]
  },
  {
   "cell_type": "code",
   "execution_count": 5,
   "id": "afb1c8da-0c4e-4444-a170-bc0d1b2094cd",
   "metadata": {},
   "outputs": [
    {
     "data": {
      "text/html": [
       "<div>\n",
       "<style scoped>\n",
       "    .dataframe tbody tr th:only-of-type {\n",
       "        vertical-align: middle;\n",
       "    }\n",
       "\n",
       "    .dataframe tbody tr th {\n",
       "        vertical-align: top;\n",
       "    }\n",
       "\n",
       "    .dataframe thead tr th {\n",
       "        text-align: left;\n",
       "    }\n",
       "\n",
       "    .dataframe thead tr:last-of-type th {\n",
       "        text-align: right;\n",
       "    }\n",
       "</style>\n",
       "<table border=\"1\" class=\"dataframe\">\n",
       "  <thead>\n",
       "    <tr>\n",
       "      <th>Price</th>\n",
       "      <th>Close</th>\n",
       "      <th>High</th>\n",
       "      <th>Low</th>\n",
       "      <th>Open</th>\n",
       "      <th>Volume</th>\n",
       "    </tr>\n",
       "    <tr>\n",
       "      <th>Ticker</th>\n",
       "      <th>AAPL</th>\n",
       "      <th>AAPL</th>\n",
       "      <th>AAPL</th>\n",
       "      <th>AAPL</th>\n",
       "      <th>AAPL</th>\n",
       "    </tr>\n",
       "    <tr>\n",
       "      <th>Date</th>\n",
       "      <th></th>\n",
       "      <th></th>\n",
       "      <th></th>\n",
       "      <th></th>\n",
       "      <th></th>\n",
       "    </tr>\n",
       "  </thead>\n",
       "  <tbody>\n",
       "    <tr>\n",
       "      <th>2015-06-12</th>\n",
       "      <td>28.481865</td>\n",
       "      <td>28.741667</td>\n",
       "      <td>28.468427</td>\n",
       "      <td>28.710312</td>\n",
       "      <td>147544800</td>\n",
       "    </tr>\n",
       "    <tr>\n",
       "      <th>2015-06-15</th>\n",
       "      <td>28.425867</td>\n",
       "      <td>28.497536</td>\n",
       "      <td>28.154867</td>\n",
       "      <td>28.242214</td>\n",
       "      <td>175955600</td>\n",
       "    </tr>\n",
       "    <tr>\n",
       "      <th>2015-06-16</th>\n",
       "      <td>28.578167</td>\n",
       "      <td>28.634159</td>\n",
       "      <td>28.302689</td>\n",
       "      <td>28.450506</td>\n",
       "      <td>125976400</td>\n",
       "    </tr>\n",
       "    <tr>\n",
       "      <th>2015-06-17</th>\n",
       "      <td>28.510977</td>\n",
       "      <td>28.640876</td>\n",
       "      <td>28.385554</td>\n",
       "      <td>28.605042</td>\n",
       "      <td>131672400</td>\n",
       "    </tr>\n",
       "    <tr>\n",
       "      <th>2015-06-18</th>\n",
       "      <td>28.640877</td>\n",
       "      <td>28.737183</td>\n",
       "      <td>28.493060</td>\n",
       "      <td>28.495300</td>\n",
       "      <td>141628800</td>\n",
       "    </tr>\n",
       "    <tr>\n",
       "      <th>...</th>\n",
       "      <td>...</td>\n",
       "      <td>...</td>\n",
       "      <td>...</td>\n",
       "      <td>...</td>\n",
       "      <td>...</td>\n",
       "    </tr>\n",
       "    <tr>\n",
       "      <th>2025-06-05</th>\n",
       "      <td>200.630005</td>\n",
       "      <td>204.750000</td>\n",
       "      <td>200.149994</td>\n",
       "      <td>203.500000</td>\n",
       "      <td>55126100</td>\n",
       "    </tr>\n",
       "    <tr>\n",
       "      <th>2025-06-06</th>\n",
       "      <td>203.919998</td>\n",
       "      <td>205.699997</td>\n",
       "      <td>202.050003</td>\n",
       "      <td>203.000000</td>\n",
       "      <td>46607700</td>\n",
       "    </tr>\n",
       "    <tr>\n",
       "      <th>2025-06-09</th>\n",
       "      <td>201.449997</td>\n",
       "      <td>206.000000</td>\n",
       "      <td>200.020004</td>\n",
       "      <td>204.389999</td>\n",
       "      <td>72862600</td>\n",
       "    </tr>\n",
       "    <tr>\n",
       "      <th>2025-06-10</th>\n",
       "      <td>202.669998</td>\n",
       "      <td>204.350006</td>\n",
       "      <td>200.570007</td>\n",
       "      <td>200.600006</td>\n",
       "      <td>54672600</td>\n",
       "    </tr>\n",
       "    <tr>\n",
       "      <th>2025-06-11</th>\n",
       "      <td>198.779999</td>\n",
       "      <td>204.500000</td>\n",
       "      <td>198.410004</td>\n",
       "      <td>203.500000</td>\n",
       "      <td>60820200</td>\n",
       "    </tr>\n",
       "  </tbody>\n",
       "</table>\n",
       "<p>2515 rows × 5 columns</p>\n",
       "</div>"
      ],
      "text/plain": [
       "Price            Close        High         Low        Open     Volume\n",
       "Ticker            AAPL        AAPL        AAPL        AAPL       AAPL\n",
       "Date                                                                 \n",
       "2015-06-12   28.481865   28.741667   28.468427   28.710312  147544800\n",
       "2015-06-15   28.425867   28.497536   28.154867   28.242214  175955600\n",
       "2015-06-16   28.578167   28.634159   28.302689   28.450506  125976400\n",
       "2015-06-17   28.510977   28.640876   28.385554   28.605042  131672400\n",
       "2015-06-18   28.640877   28.737183   28.493060   28.495300  141628800\n",
       "...                ...         ...         ...         ...        ...\n",
       "2025-06-05  200.630005  204.750000  200.149994  203.500000   55126100\n",
       "2025-06-06  203.919998  205.699997  202.050003  203.000000   46607700\n",
       "2025-06-09  201.449997  206.000000  200.020004  204.389999   72862600\n",
       "2025-06-10  202.669998  204.350006  200.570007  200.600006   54672600\n",
       "2025-06-11  198.779999  204.500000  198.410004  203.500000   60820200\n",
       "\n",
       "[2515 rows x 5 columns]"
      ]
     },
     "execution_count": 5,
     "metadata": {},
     "output_type": "execute_result"
    }
   ],
   "source": [
    "df"
   ]
  },
  {
   "cell_type": "code",
   "execution_count": 6,
   "id": "f4103b83-8c33-4ee8-9246-5f958a1ffd17",
   "metadata": {},
   "outputs": [
    {
     "data": {
      "text/plain": [
       "pandas.core.frame.DataFrame"
      ]
     },
     "execution_count": 6,
     "metadata": {},
     "output_type": "execute_result"
    }
   ],
   "source": [
    "type(df)"
   ]
  },
  {
   "cell_type": "code",
   "execution_count": 7,
   "id": "8e08efae-ea3a-4b50-9cde-2845b2300392",
   "metadata": {},
   "outputs": [
    {
     "data": {
      "text/plain": [
       "(2515, 5)"
      ]
     },
     "execution_count": 7,
     "metadata": {},
     "output_type": "execute_result"
    }
   ],
   "source": [
    "df.shape"
   ]
  },
  {
   "cell_type": "code",
   "execution_count": 8,
   "id": "1d3354db-2a42-438b-bc66-20c9655438df",
   "metadata": {},
   "outputs": [
    {
     "data": {
      "text/plain": [
       "Price   Ticker\n",
       "Close   AAPL      0\n",
       "High    AAPL      0\n",
       "Low     AAPL      0\n",
       "Open    AAPL      0\n",
       "Volume  AAPL      0\n",
       "dtype: int64"
      ]
     },
     "execution_count": 8,
     "metadata": {},
     "output_type": "execute_result"
    }
   ],
   "source": [
    "df.isna().sum()"
   ]
  },
  {
   "cell_type": "code",
   "execution_count": 9,
   "id": "ccc4b8af-f2f1-4f5b-8597-e04fcab197f6",
   "metadata": {},
   "outputs": [
    {
     "data": {
      "text/html": [
       "<div>\n",
       "<style scoped>\n",
       "    .dataframe tbody tr th:only-of-type {\n",
       "        vertical-align: middle;\n",
       "    }\n",
       "\n",
       "    .dataframe tbody tr th {\n",
       "        vertical-align: top;\n",
       "    }\n",
       "\n",
       "    .dataframe thead tr th {\n",
       "        text-align: left;\n",
       "    }\n",
       "\n",
       "    .dataframe thead tr:last-of-type th {\n",
       "        text-align: right;\n",
       "    }\n",
       "</style>\n",
       "<table border=\"1\" class=\"dataframe\">\n",
       "  <thead>\n",
       "    <tr>\n",
       "      <th>Price</th>\n",
       "      <th>Close</th>\n",
       "      <th>High</th>\n",
       "      <th>Low</th>\n",
       "      <th>Open</th>\n",
       "      <th>Volume</th>\n",
       "    </tr>\n",
       "    <tr>\n",
       "      <th>Ticker</th>\n",
       "      <th>AAPL</th>\n",
       "      <th>AAPL</th>\n",
       "      <th>AAPL</th>\n",
       "      <th>AAPL</th>\n",
       "      <th>AAPL</th>\n",
       "    </tr>\n",
       "    <tr>\n",
       "      <th>Date</th>\n",
       "      <th></th>\n",
       "      <th></th>\n",
       "      <th></th>\n",
       "      <th></th>\n",
       "      <th></th>\n",
       "    </tr>\n",
       "  </thead>\n",
       "  <tbody>\n",
       "    <tr>\n",
       "      <th>2015-06-12</th>\n",
       "      <td>28.481865</td>\n",
       "      <td>28.741667</td>\n",
       "      <td>28.468427</td>\n",
       "      <td>28.710312</td>\n",
       "      <td>147544800</td>\n",
       "    </tr>\n",
       "    <tr>\n",
       "      <th>2015-06-15</th>\n",
       "      <td>28.425867</td>\n",
       "      <td>28.497536</td>\n",
       "      <td>28.154867</td>\n",
       "      <td>28.242214</td>\n",
       "      <td>175955600</td>\n",
       "    </tr>\n",
       "    <tr>\n",
       "      <th>2015-06-16</th>\n",
       "      <td>28.578167</td>\n",
       "      <td>28.634159</td>\n",
       "      <td>28.302689</td>\n",
       "      <td>28.450506</td>\n",
       "      <td>125976400</td>\n",
       "    </tr>\n",
       "    <tr>\n",
       "      <th>2015-06-17</th>\n",
       "      <td>28.510977</td>\n",
       "      <td>28.640876</td>\n",
       "      <td>28.385554</td>\n",
       "      <td>28.605042</td>\n",
       "      <td>131672400</td>\n",
       "    </tr>\n",
       "    <tr>\n",
       "      <th>2015-06-18</th>\n",
       "      <td>28.640877</td>\n",
       "      <td>28.737183</td>\n",
       "      <td>28.493060</td>\n",
       "      <td>28.495300</td>\n",
       "      <td>141628800</td>\n",
       "    </tr>\n",
       "    <tr>\n",
       "      <th>...</th>\n",
       "      <td>...</td>\n",
       "      <td>...</td>\n",
       "      <td>...</td>\n",
       "      <td>...</td>\n",
       "      <td>...</td>\n",
       "    </tr>\n",
       "    <tr>\n",
       "      <th>2025-06-05</th>\n",
       "      <td>200.630005</td>\n",
       "      <td>204.750000</td>\n",
       "      <td>200.149994</td>\n",
       "      <td>203.500000</td>\n",
       "      <td>55126100</td>\n",
       "    </tr>\n",
       "    <tr>\n",
       "      <th>2025-06-06</th>\n",
       "      <td>203.919998</td>\n",
       "      <td>205.699997</td>\n",
       "      <td>202.050003</td>\n",
       "      <td>203.000000</td>\n",
       "      <td>46607700</td>\n",
       "    </tr>\n",
       "    <tr>\n",
       "      <th>2025-06-09</th>\n",
       "      <td>201.449997</td>\n",
       "      <td>206.000000</td>\n",
       "      <td>200.020004</td>\n",
       "      <td>204.389999</td>\n",
       "      <td>72862600</td>\n",
       "    </tr>\n",
       "    <tr>\n",
       "      <th>2025-06-10</th>\n",
       "      <td>202.669998</td>\n",
       "      <td>204.350006</td>\n",
       "      <td>200.570007</td>\n",
       "      <td>200.600006</td>\n",
       "      <td>54672600</td>\n",
       "    </tr>\n",
       "    <tr>\n",
       "      <th>2025-06-11</th>\n",
       "      <td>198.779999</td>\n",
       "      <td>204.500000</td>\n",
       "      <td>198.410004</td>\n",
       "      <td>203.500000</td>\n",
       "      <td>60820200</td>\n",
       "    </tr>\n",
       "  </tbody>\n",
       "</table>\n",
       "<p>2515 rows × 5 columns</p>\n",
       "</div>"
      ],
      "text/plain": [
       "Price            Close        High         Low        Open     Volume\n",
       "Ticker            AAPL        AAPL        AAPL        AAPL       AAPL\n",
       "Date                                                                 \n",
       "2015-06-12   28.481865   28.741667   28.468427   28.710312  147544800\n",
       "2015-06-15   28.425867   28.497536   28.154867   28.242214  175955600\n",
       "2015-06-16   28.578167   28.634159   28.302689   28.450506  125976400\n",
       "2015-06-17   28.510977   28.640876   28.385554   28.605042  131672400\n",
       "2015-06-18   28.640877   28.737183   28.493060   28.495300  141628800\n",
       "...                ...         ...         ...         ...        ...\n",
       "2025-06-05  200.630005  204.750000  200.149994  203.500000   55126100\n",
       "2025-06-06  203.919998  205.699997  202.050003  203.000000   46607700\n",
       "2025-06-09  201.449997  206.000000  200.020004  204.389999   72862600\n",
       "2025-06-10  202.669998  204.350006  200.570007  200.600006   54672600\n",
       "2025-06-11  198.779999  204.500000  198.410004  203.500000   60820200\n",
       "\n",
       "[2515 rows x 5 columns]"
      ]
     },
     "execution_count": 9,
     "metadata": {},
     "output_type": "execute_result"
    }
   ],
   "source": [
    "df\n"
   ]
  },
  {
   "cell_type": "code",
   "execution_count": 10,
   "id": "001eb820-cfd1-45c0-958d-e324c708242d",
   "metadata": {},
   "outputs": [
    {
     "data": {
      "text/html": [
       "<div>\n",
       "<style scoped>\n",
       "    .dataframe tbody tr th:only-of-type {\n",
       "        vertical-align: middle;\n",
       "    }\n",
       "\n",
       "    .dataframe tbody tr th {\n",
       "        vertical-align: top;\n",
       "    }\n",
       "\n",
       "    .dataframe thead tr th {\n",
       "        text-align: left;\n",
       "    }\n",
       "</style>\n",
       "<table border=\"1\" class=\"dataframe\">\n",
       "  <thead>\n",
       "    <tr>\n",
       "      <th>Price</th>\n",
       "      <th>Close</th>\n",
       "      <th>High</th>\n",
       "      <th>Low</th>\n",
       "      <th>Open</th>\n",
       "      <th>Volume</th>\n",
       "    </tr>\n",
       "    <tr>\n",
       "      <th>Ticker</th>\n",
       "      <th>AAPL</th>\n",
       "      <th>AAPL</th>\n",
       "      <th>AAPL</th>\n",
       "      <th>AAPL</th>\n",
       "      <th>AAPL</th>\n",
       "    </tr>\n",
       "  </thead>\n",
       "  <tbody>\n",
       "    <tr>\n",
       "      <th>count</th>\n",
       "      <td>2515.000000</td>\n",
       "      <td>2515.000000</td>\n",
       "      <td>2515.000000</td>\n",
       "      <td>2515.000000</td>\n",
       "      <td>2.515000e+03</td>\n",
       "    </tr>\n",
       "    <tr>\n",
       "      <th>mean</th>\n",
       "      <td>102.411133</td>\n",
       "      <td>103.439515</td>\n",
       "      <td>101.270309</td>\n",
       "      <td>102.311998</td>\n",
       "      <td>1.103167e+08</td>\n",
       "    </tr>\n",
       "    <tr>\n",
       "      <th>std</th>\n",
       "      <td>68.733917</td>\n",
       "      <td>69.409743</td>\n",
       "      <td>67.965040</td>\n",
       "      <td>68.655029</td>\n",
       "      <td>6.446974e+07</td>\n",
       "    </tr>\n",
       "    <tr>\n",
       "      <th>min</th>\n",
       "      <td>20.647457</td>\n",
       "      <td>20.951435</td>\n",
       "      <td>20.448617</td>\n",
       "      <td>20.569752</td>\n",
       "      <td>2.323470e+07</td>\n",
       "    </tr>\n",
       "    <tr>\n",
       "      <th>25%</th>\n",
       "      <td>38.163387</td>\n",
       "      <td>38.466117</td>\n",
       "      <td>37.541361</td>\n",
       "      <td>38.206607</td>\n",
       "      <td>6.762225e+07</td>\n",
       "    </tr>\n",
       "    <tr>\n",
       "      <th>50%</th>\n",
       "      <td>82.334267</td>\n",
       "      <td>84.006203</td>\n",
       "      <td>80.822675</td>\n",
       "      <td>80.985500</td>\n",
       "      <td>9.481230e+07</td>\n",
       "    </tr>\n",
       "    <tr>\n",
       "      <th>75%</th>\n",
       "      <td>162.671967</td>\n",
       "      <td>164.186838</td>\n",
       "      <td>160.929506</td>\n",
       "      <td>162.531931</td>\n",
       "      <td>1.342934e+08</td>\n",
       "    </tr>\n",
       "    <tr>\n",
       "      <th>max</th>\n",
       "      <td>258.396667</td>\n",
       "      <td>259.474086</td>\n",
       "      <td>257.010028</td>\n",
       "      <td>257.568678</td>\n",
       "      <td>6.488252e+08</td>\n",
       "    </tr>\n",
       "  </tbody>\n",
       "</table>\n",
       "</div>"
      ],
      "text/plain": [
       "Price         Close         High          Low         Open        Volume\n",
       "Ticker         AAPL         AAPL         AAPL         AAPL          AAPL\n",
       "count   2515.000000  2515.000000  2515.000000  2515.000000  2.515000e+03\n",
       "mean     102.411133   103.439515   101.270309   102.311998  1.103167e+08\n",
       "std       68.733917    69.409743    67.965040    68.655029  6.446974e+07\n",
       "min       20.647457    20.951435    20.448617    20.569752  2.323470e+07\n",
       "25%       38.163387    38.466117    37.541361    38.206607  6.762225e+07\n",
       "50%       82.334267    84.006203    80.822675    80.985500  9.481230e+07\n",
       "75%      162.671967   164.186838   160.929506   162.531931  1.342934e+08\n",
       "max      258.396667   259.474086   257.010028   257.568678  6.488252e+08"
      ]
     },
     "execution_count": 10,
     "metadata": {},
     "output_type": "execute_result"
    }
   ],
   "source": [
    "df.describe()"
   ]
  },
  {
   "cell_type": "code",
   "execution_count": 11,
   "id": "8e589d71-e88e-4a6a-8f25-0e7bceee5c2e",
   "metadata": {},
   "outputs": [
    {
     "data": {
      "text/plain": [
       "Price   Ticker\n",
       "Close   AAPL      float64\n",
       "High    AAPL      float64\n",
       "Low     AAPL      float64\n",
       "Open    AAPL      float64\n",
       "Volume  AAPL        int64\n",
       "dtype: object"
      ]
     },
     "execution_count": 11,
     "metadata": {},
     "output_type": "execute_result"
    }
   ],
   "source": [
    "df.dtypes"
   ]
  },
  {
   "cell_type": "code",
   "execution_count": 12,
   "id": "3f079085-c90c-47fe-95b5-14ed43b0b832",
   "metadata": {},
   "outputs": [
    {
     "data": {
      "text/html": [
       "<div>\n",
       "<style scoped>\n",
       "    .dataframe tbody tr th:only-of-type {\n",
       "        vertical-align: middle;\n",
       "    }\n",
       "\n",
       "    .dataframe tbody tr th {\n",
       "        vertical-align: top;\n",
       "    }\n",
       "\n",
       "    .dataframe thead tr th {\n",
       "        text-align: left;\n",
       "    }\n",
       "\n",
       "    .dataframe thead tr:last-of-type th {\n",
       "        text-align: right;\n",
       "    }\n",
       "</style>\n",
       "<table border=\"1\" class=\"dataframe\">\n",
       "  <thead>\n",
       "    <tr>\n",
       "      <th>Price</th>\n",
       "      <th>Close</th>\n",
       "      <th>High</th>\n",
       "      <th>Low</th>\n",
       "      <th>Open</th>\n",
       "      <th>Volume</th>\n",
       "    </tr>\n",
       "    <tr>\n",
       "      <th>Ticker</th>\n",
       "      <th>AAPL</th>\n",
       "      <th>AAPL</th>\n",
       "      <th>AAPL</th>\n",
       "      <th>AAPL</th>\n",
       "      <th>AAPL</th>\n",
       "    </tr>\n",
       "    <tr>\n",
       "      <th>Date</th>\n",
       "      <th></th>\n",
       "      <th></th>\n",
       "      <th></th>\n",
       "      <th></th>\n",
       "      <th></th>\n",
       "    </tr>\n",
       "  </thead>\n",
       "  <tbody>\n",
       "    <tr>\n",
       "      <th>2015-06-12</th>\n",
       "      <td>28.481865</td>\n",
       "      <td>28.741667</td>\n",
       "      <td>28.468427</td>\n",
       "      <td>28.710312</td>\n",
       "      <td>147544800</td>\n",
       "    </tr>\n",
       "    <tr>\n",
       "      <th>2015-06-15</th>\n",
       "      <td>28.425867</td>\n",
       "      <td>28.497536</td>\n",
       "      <td>28.154867</td>\n",
       "      <td>28.242214</td>\n",
       "      <td>175955600</td>\n",
       "    </tr>\n",
       "    <tr>\n",
       "      <th>2015-06-16</th>\n",
       "      <td>28.578167</td>\n",
       "      <td>28.634159</td>\n",
       "      <td>28.302689</td>\n",
       "      <td>28.450506</td>\n",
       "      <td>125976400</td>\n",
       "    </tr>\n",
       "    <tr>\n",
       "      <th>2015-06-17</th>\n",
       "      <td>28.510977</td>\n",
       "      <td>28.640876</td>\n",
       "      <td>28.385554</td>\n",
       "      <td>28.605042</td>\n",
       "      <td>131672400</td>\n",
       "    </tr>\n",
       "    <tr>\n",
       "      <th>2015-06-18</th>\n",
       "      <td>28.640877</td>\n",
       "      <td>28.737183</td>\n",
       "      <td>28.493060</td>\n",
       "      <td>28.495300</td>\n",
       "      <td>141628800</td>\n",
       "    </tr>\n",
       "  </tbody>\n",
       "</table>\n",
       "</div>"
      ],
      "text/plain": [
       "Price           Close       High        Low       Open     Volume\n",
       "Ticker           AAPL       AAPL       AAPL       AAPL       AAPL\n",
       "Date                                                             \n",
       "2015-06-12  28.481865  28.741667  28.468427  28.710312  147544800\n",
       "2015-06-15  28.425867  28.497536  28.154867  28.242214  175955600\n",
       "2015-06-16  28.578167  28.634159  28.302689  28.450506  125976400\n",
       "2015-06-17  28.510977  28.640876  28.385554  28.605042  131672400\n",
       "2015-06-18  28.640877  28.737183  28.493060  28.495300  141628800"
      ]
     },
     "execution_count": 12,
     "metadata": {},
     "output_type": "execute_result"
    }
   ],
   "source": [
    "df.head()"
   ]
  },
  {
   "cell_type": "code",
   "execution_count": 13,
   "id": "72e40568-14ca-40fc-b3a8-f031a950d4f4",
   "metadata": {},
   "outputs": [],
   "source": [
    "df = df.reset_index()"
   ]
  },
  {
   "cell_type": "code",
   "execution_count": 14,
   "id": "990506e5-c4ba-49a4-b88a-6197f1177b0c",
   "metadata": {},
   "outputs": [
    {
     "data": {
      "text/html": [
       "<div>\n",
       "<style scoped>\n",
       "    .dataframe tbody tr th:only-of-type {\n",
       "        vertical-align: middle;\n",
       "    }\n",
       "\n",
       "    .dataframe tbody tr th {\n",
       "        vertical-align: top;\n",
       "    }\n",
       "\n",
       "    .dataframe thead tr th {\n",
       "        text-align: left;\n",
       "    }\n",
       "</style>\n",
       "<table border=\"1\" class=\"dataframe\">\n",
       "  <thead>\n",
       "    <tr>\n",
       "      <th>Price</th>\n",
       "      <th>Date</th>\n",
       "      <th>Close</th>\n",
       "      <th>High</th>\n",
       "      <th>Low</th>\n",
       "      <th>Open</th>\n",
       "      <th>Volume</th>\n",
       "    </tr>\n",
       "    <tr>\n",
       "      <th>Ticker</th>\n",
       "      <th></th>\n",
       "      <th>AAPL</th>\n",
       "      <th>AAPL</th>\n",
       "      <th>AAPL</th>\n",
       "      <th>AAPL</th>\n",
       "      <th>AAPL</th>\n",
       "    </tr>\n",
       "  </thead>\n",
       "  <tbody>\n",
       "    <tr>\n",
       "      <th>0</th>\n",
       "      <td>2015-06-12</td>\n",
       "      <td>28.481865</td>\n",
       "      <td>28.741667</td>\n",
       "      <td>28.468427</td>\n",
       "      <td>28.710312</td>\n",
       "      <td>147544800</td>\n",
       "    </tr>\n",
       "    <tr>\n",
       "      <th>1</th>\n",
       "      <td>2015-06-15</td>\n",
       "      <td>28.425867</td>\n",
       "      <td>28.497536</td>\n",
       "      <td>28.154867</td>\n",
       "      <td>28.242214</td>\n",
       "      <td>175955600</td>\n",
       "    </tr>\n",
       "    <tr>\n",
       "      <th>2</th>\n",
       "      <td>2015-06-16</td>\n",
       "      <td>28.578167</td>\n",
       "      <td>28.634159</td>\n",
       "      <td>28.302689</td>\n",
       "      <td>28.450506</td>\n",
       "      <td>125976400</td>\n",
       "    </tr>\n",
       "    <tr>\n",
       "      <th>3</th>\n",
       "      <td>2015-06-17</td>\n",
       "      <td>28.510977</td>\n",
       "      <td>28.640876</td>\n",
       "      <td>28.385554</td>\n",
       "      <td>28.605042</td>\n",
       "      <td>131672400</td>\n",
       "    </tr>\n",
       "    <tr>\n",
       "      <th>4</th>\n",
       "      <td>2015-06-18</td>\n",
       "      <td>28.640877</td>\n",
       "      <td>28.737183</td>\n",
       "      <td>28.493060</td>\n",
       "      <td>28.495300</td>\n",
       "      <td>141628800</td>\n",
       "    </tr>\n",
       "  </tbody>\n",
       "</table>\n",
       "</div>"
      ],
      "text/plain": [
       "Price        Date      Close       High        Low       Open     Volume\n",
       "Ticker                  AAPL       AAPL       AAPL       AAPL       AAPL\n",
       "0      2015-06-12  28.481865  28.741667  28.468427  28.710312  147544800\n",
       "1      2015-06-15  28.425867  28.497536  28.154867  28.242214  175955600\n",
       "2      2015-06-16  28.578167  28.634159  28.302689  28.450506  125976400\n",
       "3      2015-06-17  28.510977  28.640876  28.385554  28.605042  131672400\n",
       "4      2015-06-18  28.640877  28.737183  28.493060  28.495300  141628800"
      ]
     },
     "execution_count": 14,
     "metadata": {},
     "output_type": "execute_result"
    }
   ],
   "source": [
    "df.head()"
   ]
  },
  {
   "cell_type": "code",
   "execution_count": 15,
   "id": "99e19052-df0d-49fc-b55c-97b4d3c0713b",
   "metadata": {},
   "outputs": [
    {
     "data": {
      "text/plain": [
       "Text(0, 0.5, 'Close price')"
      ]
     },
     "execution_count": 15,
     "metadata": {},
     "output_type": "execute_result"
    },
    {
     "data": {
      "image/png": "[encoded data removed]",
      "text/plain": [
       "<Figure size 1200x500 with 1 Axes>"
      ]
     },
     "metadata": {},
     "output_type": "display_data"
    }
   ],
   "source": [
    "plt.figure(figsize=(12, 5))\n",
    "plt.plot(df.Close)\n",
    "plt.title(ticker)\n",
    "plt.xlabel('Days')\n",
    "plt.ylabel('Close price')"
   ]
  },
  {
   "cell_type": "markdown",
   "id": "ea1ef074-809e-491b-8978-5bb93a19bb5e",
   "metadata": {},
   "source": [
    "# 3. Feature Engineering"
   ]
  },
  {
   "cell_type": "code",
   "execution_count": 16,
   "id": "7efcc2ec-8356-4342-907f-a66c1aec5418",
   "metadata": {},
   "outputs": [],
   "source": [
    "# 10, 20, 30, 40, 50, 60, 70, 80, 90, 100\n",
    "\n",
    "# MA of 5 days ==> null null null null 30 40"
   ]
  },
  {
   "cell_type": "code",
   "execution_count": 17,
   "id": "d9075831-4975-440f-933b-bb8f0069e39a",
   "metadata": {},
   "outputs": [
    {
     "name": "stdout",
     "output_type": "stream",
     "text": [
      "50.0\n"
     ]
    }
   ],
   "source": [
    "temp_df = [10, 20, 30, 40, 50, 60, 70, 80, 90, 100]\n",
    "print(sum(temp_df[2:7])/5)"
   ]
  },
  {
   "cell_type": "code",
   "execution_count": 18,
   "id": "26219a0b-2439-415f-ae65-1ad7917c1732",
   "metadata": {},
   "outputs": [
    {
     "data": {
      "text/html": [
       "<div>\n",
       "<style scoped>\n",
       "    .dataframe tbody tr th:only-of-type {\n",
       "        vertical-align: middle;\n",
       "    }\n",
       "\n",
       "    .dataframe tbody tr th {\n",
       "        vertical-align: top;\n",
       "    }\n",
       "\n",
       "    .dataframe thead th {\n",
       "        text-align: right;\n",
       "    }\n",
       "</style>\n",
       "<table border=\"1\" class=\"dataframe\">\n",
       "  <thead>\n",
       "    <tr style=\"text-align: right;\">\n",
       "      <th></th>\n",
       "      <th>0</th>\n",
       "    </tr>\n",
       "  </thead>\n",
       "  <tbody>\n",
       "    <tr>\n",
       "      <th>0</th>\n",
       "      <td>10</td>\n",
       "    </tr>\n",
       "    <tr>\n",
       "      <th>1</th>\n",
       "      <td>20</td>\n",
       "    </tr>\n",
       "    <tr>\n",
       "      <th>2</th>\n",
       "      <td>30</td>\n",
       "    </tr>\n",
       "    <tr>\n",
       "      <th>3</th>\n",
       "      <td>40</td>\n",
       "    </tr>\n",
       "    <tr>\n",
       "      <th>4</th>\n",
       "      <td>50</td>\n",
       "    </tr>\n",
       "    <tr>\n",
       "      <th>5</th>\n",
       "      <td>60</td>\n",
       "    </tr>\n",
       "    <tr>\n",
       "      <th>6</th>\n",
       "      <td>70</td>\n",
       "    </tr>\n",
       "    <tr>\n",
       "      <th>7</th>\n",
       "      <td>80</td>\n",
       "    </tr>\n",
       "    <tr>\n",
       "      <th>8</th>\n",
       "      <td>90</td>\n",
       "    </tr>\n",
       "    <tr>\n",
       "      <th>9</th>\n",
       "      <td>100</td>\n",
       "    </tr>\n",
       "  </tbody>\n",
       "</table>\n",
       "</div>"
      ],
      "text/plain": [
       "     0\n",
       "0   10\n",
       "1   20\n",
       "2   30\n",
       "3   40\n",
       "4   50\n",
       "5   60\n",
       "6   70\n",
       "7   80\n",
       "8   90\n",
       "9  100"
      ]
     },
     "execution_count": 18,
     "metadata": {},
     "output_type": "execute_result"
    }
   ],
   "source": [
    "df1 = pd.DataFrame([10, 20, 30, 40, 50, 60, 70, 80, 90, 100])\n",
    "df1"
   ]
  },
  {
   "cell_type": "code",
   "execution_count": 19,
   "id": "2c9bbcd7-1e30-41a9-b58c-82054def17c7",
   "metadata": {},
   "outputs": [
    {
     "data": {
      "text/html": [
       "<div>\n",
       "<style scoped>\n",
       "    .dataframe tbody tr th:only-of-type {\n",
       "        vertical-align: middle;\n",
       "    }\n",
       "\n",
       "    .dataframe tbody tr th {\n",
       "        vertical-align: top;\n",
       "    }\n",
       "\n",
       "    .dataframe thead th {\n",
       "        text-align: right;\n",
       "    }\n",
       "</style>\n",
       "<table border=\"1\" class=\"dataframe\">\n",
       "  <thead>\n",
       "    <tr style=\"text-align: right;\">\n",
       "      <th></th>\n",
       "      <th>0</th>\n",
       "      <th>MA_5</th>\n",
       "    </tr>\n",
       "  </thead>\n",
       "  <tbody>\n",
       "    <tr>\n",
       "      <th>0</th>\n",
       "      <td>10</td>\n",
       "      <td>NaN</td>\n",
       "    </tr>\n",
       "    <tr>\n",
       "      <th>1</th>\n",
       "      <td>20</td>\n",
       "      <td>NaN</td>\n",
       "    </tr>\n",
       "    <tr>\n",
       "      <th>2</th>\n",
       "      <td>30</td>\n",
       "      <td>NaN</td>\n",
       "    </tr>\n",
       "    <tr>\n",
       "      <th>3</th>\n",
       "      <td>40</td>\n",
       "      <td>NaN</td>\n",
       "    </tr>\n",
       "    <tr>\n",
       "      <th>4</th>\n",
       "      <td>50</td>\n",
       "      <td>30.0</td>\n",
       "    </tr>\n",
       "    <tr>\n",
       "      <th>5</th>\n",
       "      <td>60</td>\n",
       "      <td>40.0</td>\n",
       "    </tr>\n",
       "    <tr>\n",
       "      <th>6</th>\n",
       "      <td>70</td>\n",
       "      <td>50.0</td>\n",
       "    </tr>\n",
       "    <tr>\n",
       "      <th>7</th>\n",
       "      <td>80</td>\n",
       "      <td>60.0</td>\n",
       "    </tr>\n",
       "    <tr>\n",
       "      <th>8</th>\n",
       "      <td>90</td>\n",
       "      <td>70.0</td>\n",
       "    </tr>\n",
       "    <tr>\n",
       "      <th>9</th>\n",
       "      <td>100</td>\n",
       "      <td>80.0</td>\n",
       "    </tr>\n",
       "  </tbody>\n",
       "</table>\n",
       "</div>"
      ],
      "text/plain": [
       "     0  MA_5\n",
       "0   10   NaN\n",
       "1   20   NaN\n",
       "2   30   NaN\n",
       "3   40   NaN\n",
       "4   50  30.0\n",
       "5   60  40.0\n",
       "6   70  50.0\n",
       "7   80  60.0\n",
       "8   90  70.0\n",
       "9  100  80.0"
      ]
     },
     "execution_count": 19,
     "metadata": {},
     "output_type": "execute_result"
    }
   ],
   "source": [
    "df1['MA_5'] = df1.rolling(5).mean()\n",
    "df1"
   ]
  },
  {
   "cell_type": "markdown",
   "id": "209fc73d-359a-4f14-9614-e4ceb2da5a53",
   "metadata": {},
   "source": [
    "## 100 days Moving Average"
   ]
  },
  {
   "cell_type": "code",
   "execution_count": 20,
   "id": "ccf3eeba-f072-436f-8fc7-fecf3ddd9191",
   "metadata": {},
   "outputs": [
    {
     "data": {
      "text/html": [
       "<div>\n",
       "<style scoped>\n",
       "    .dataframe tbody tr th:only-of-type {\n",
       "        vertical-align: middle;\n",
       "    }\n",
       "\n",
       "    .dataframe tbody tr th {\n",
       "        vertical-align: top;\n",
       "    }\n",
       "\n",
       "    .dataframe thead tr th {\n",
       "        text-align: left;\n",
       "    }\n",
       "</style>\n",
       "<table border=\"1\" class=\"dataframe\">\n",
       "  <thead>\n",
       "    <tr>\n",
       "      <th>Price</th>\n",
       "      <th>Date</th>\n",
       "      <th>Close</th>\n",
       "      <th>High</th>\n",
       "      <th>Low</th>\n",
       "      <th>Open</th>\n",
       "      <th>Volume</th>\n",
       "      <th>MA_100</th>\n",
       "    </tr>\n",
       "    <tr>\n",
       "      <th>Ticker</th>\n",
       "      <th></th>\n",
       "      <th>AAPL</th>\n",
       "      <th>AAPL</th>\n",
       "      <th>AAPL</th>\n",
       "      <th>AAPL</th>\n",
       "      <th>AAPL</th>\n",
       "      <th></th>\n",
       "    </tr>\n",
       "  </thead>\n",
       "  <tbody>\n",
       "    <tr>\n",
       "      <th>0</th>\n",
       "      <td>2015-06-12</td>\n",
       "      <td>28.481865</td>\n",
       "      <td>28.741667</td>\n",
       "      <td>28.468427</td>\n",
       "      <td>28.710312</td>\n",
       "      <td>147544800</td>\n",
       "      <td>NaN</td>\n",
       "    </tr>\n",
       "    <tr>\n",
       "      <th>1</th>\n",
       "      <td>2015-06-15</td>\n",
       "      <td>28.425867</td>\n",
       "      <td>28.497536</td>\n",
       "      <td>28.154867</td>\n",
       "      <td>28.242214</td>\n",
       "      <td>175955600</td>\n",
       "      <td>NaN</td>\n",
       "    </tr>\n",
       "    <tr>\n",
       "      <th>2</th>\n",
       "      <td>2015-06-16</td>\n",
       "      <td>28.578167</td>\n",
       "      <td>28.634159</td>\n",
       "      <td>28.302689</td>\n",
       "      <td>28.450506</td>\n",
       "      <td>125976400</td>\n",
       "      <td>NaN</td>\n",
       "    </tr>\n",
       "    <tr>\n",
       "      <th>3</th>\n",
       "      <td>2015-06-17</td>\n",
       "      <td>28.510977</td>\n",
       "      <td>28.640876</td>\n",
       "      <td>28.385554</td>\n",
       "      <td>28.605042</td>\n",
       "      <td>131672400</td>\n",
       "      <td>NaN</td>\n",
       "    </tr>\n",
       "    <tr>\n",
       "      <th>4</th>\n",
       "      <td>2015-06-18</td>\n",
       "      <td>28.640877</td>\n",
       "      <td>28.737183</td>\n",
       "      <td>28.493060</td>\n",
       "      <td>28.495300</td>\n",
       "      <td>141628800</td>\n",
       "      <td>NaN</td>\n",
       "    </tr>\n",
       "  </tbody>\n",
       "</table>\n",
       "</div>"
      ],
      "text/plain": [
       "Price        Date      Close       High        Low       Open     Volume  \\\n",
       "Ticker                  AAPL       AAPL       AAPL       AAPL       AAPL   \n",
       "0      2015-06-12  28.481865  28.741667  28.468427  28.710312  147544800   \n",
       "1      2015-06-15  28.425867  28.497536  28.154867  28.242214  175955600   \n",
       "2      2015-06-16  28.578167  28.634159  28.302689  28.450506  125976400   \n",
       "3      2015-06-17  28.510977  28.640876  28.385554  28.605042  131672400   \n",
       "4      2015-06-18  28.640877  28.737183  28.493060  28.495300  141628800   \n",
       "\n",
       "Price  MA_100  \n",
       "Ticker         \n",
       "0         NaN  \n",
       "1         NaN  \n",
       "2         NaN  \n",
       "3         NaN  \n",
       "4         NaN  "
      ]
     },
     "execution_count": 20,
     "metadata": {},
     "output_type": "execute_result"
    }
   ],
   "source": [
    "df['MA_100'] = df.Close.rolling(100).mean()\n",
    "df.head()"
   ]
  },
  {
   "cell_type": "code",
   "execution_count": 21,
   "id": "34f15b67-4755-462a-b191-8dbc80c0befa",
   "metadata": {},
   "outputs": [
    {
     "data": {
      "text/html": [
       "<div>\n",
       "<style scoped>\n",
       "    .dataframe tbody tr th:only-of-type {\n",
       "        vertical-align: middle;\n",
       "    }\n",
       "\n",
       "    .dataframe tbody tr th {\n",
       "        vertical-align: top;\n",
       "    }\n",
       "\n",
       "    .dataframe thead tr th {\n",
       "        text-align: left;\n",
       "    }\n",
       "</style>\n",
       "<table border=\"1\" class=\"dataframe\">\n",
       "  <thead>\n",
       "    <tr>\n",
       "      <th>Price</th>\n",
       "      <th>Date</th>\n",
       "      <th>Close</th>\n",
       "      <th>High</th>\n",
       "      <th>Low</th>\n",
       "      <th>Open</th>\n",
       "      <th>Volume</th>\n",
       "      <th>MA_100</th>\n",
       "    </tr>\n",
       "    <tr>\n",
       "      <th>Ticker</th>\n",
       "      <th></th>\n",
       "      <th>AAPL</th>\n",
       "      <th>AAPL</th>\n",
       "      <th>AAPL</th>\n",
       "      <th>AAPL</th>\n",
       "      <th>AAPL</th>\n",
       "      <th></th>\n",
       "    </tr>\n",
       "  </thead>\n",
       "  <tbody>\n",
       "    <tr>\n",
       "      <th>0</th>\n",
       "      <td>2015-06-12</td>\n",
       "      <td>28.481865</td>\n",
       "      <td>28.741667</td>\n",
       "      <td>28.468427</td>\n",
       "      <td>28.710312</td>\n",
       "      <td>147544800</td>\n",
       "      <td>NaN</td>\n",
       "    </tr>\n",
       "    <tr>\n",
       "      <th>1</th>\n",
       "      <td>2015-06-15</td>\n",
       "      <td>28.425867</td>\n",
       "      <td>28.497536</td>\n",
       "      <td>28.154867</td>\n",
       "      <td>28.242214</td>\n",
       "      <td>175955600</td>\n",
       "      <td>NaN</td>\n",
       "    </tr>\n",
       "    <tr>\n",
       "      <th>2</th>\n",
       "      <td>2015-06-16</td>\n",
       "      <td>28.578167</td>\n",
       "      <td>28.634159</td>\n",
       "      <td>28.302689</td>\n",
       "      <td>28.450506</td>\n",
       "      <td>125976400</td>\n",
       "      <td>NaN</td>\n",
       "    </tr>\n",
       "    <tr>\n",
       "      <th>3</th>\n",
       "      <td>2015-06-17</td>\n",
       "      <td>28.510977</td>\n",
       "      <td>28.640876</td>\n",
       "      <td>28.385554</td>\n",
       "      <td>28.605042</td>\n",
       "      <td>131672400</td>\n",
       "      <td>NaN</td>\n",
       "    </tr>\n",
       "    <tr>\n",
       "      <th>4</th>\n",
       "      <td>2015-06-18</td>\n",
       "      <td>28.640877</td>\n",
       "      <td>28.737183</td>\n",
       "      <td>28.493060</td>\n",
       "      <td>28.495300</td>\n",
       "      <td>141628800</td>\n",
       "      <td>NaN</td>\n",
       "    </tr>\n",
       "    <tr>\n",
       "      <th>...</th>\n",
       "      <td>...</td>\n",
       "      <td>...</td>\n",
       "      <td>...</td>\n",
       "      <td>...</td>\n",
       "      <td>...</td>\n",
       "      <td>...</td>\n",
       "      <td>...</td>\n",
       "    </tr>\n",
       "    <tr>\n",
       "      <th>98</th>\n",
       "      <td>2015-10-30</td>\n",
       "      <td>26.885180</td>\n",
       "      <td>27.272146</td>\n",
       "      <td>26.873930</td>\n",
       "      <td>27.220400</td>\n",
       "      <td>197461200</td>\n",
       "      <td>NaN</td>\n",
       "    </tr>\n",
       "    <tr>\n",
       "      <th>99</th>\n",
       "      <td>2015-11-02</td>\n",
       "      <td>27.263149</td>\n",
       "      <td>27.303646</td>\n",
       "      <td>26.909930</td>\n",
       "      <td>27.177657</td>\n",
       "      <td>128813200</td>\n",
       "      <td>26.438636</td>\n",
       "    </tr>\n",
       "    <tr>\n",
       "      <th>100</th>\n",
       "      <td>2015-11-03</td>\n",
       "      <td>27.575872</td>\n",
       "      <td>27.782854</td>\n",
       "      <td>27.155158</td>\n",
       "      <td>27.175407</td>\n",
       "      <td>182076000</td>\n",
       "      <td>26.429576</td>\n",
       "    </tr>\n",
       "    <tr>\n",
       "      <th>101</th>\n",
       "      <td>2015-11-04</td>\n",
       "      <td>27.447636</td>\n",
       "      <td>27.857100</td>\n",
       "      <td>27.362144</td>\n",
       "      <td>27.701863</td>\n",
       "      <td>179544400</td>\n",
       "      <td>26.419794</td>\n",
       "    </tr>\n",
       "    <tr>\n",
       "      <th>102</th>\n",
       "      <td>2015-11-05</td>\n",
       "      <td>27.321100</td>\n",
       "      <td>27.721021</td>\n",
       "      <td>27.153902</td>\n",
       "      <td>27.531228</td>\n",
       "      <td>158210800</td>\n",
       "      <td>26.407223</td>\n",
       "    </tr>\n",
       "  </tbody>\n",
       "</table>\n",
       "<p>103 rows × 7 columns</p>\n",
       "</div>"
      ],
      "text/plain": [
       "Price        Date      Close       High        Low       Open     Volume  \\\n",
       "Ticker                  AAPL       AAPL       AAPL       AAPL       AAPL   \n",
       "0      2015-06-12  28.481865  28.741667  28.468427  28.710312  147544800   \n",
       "1      2015-06-15  28.425867  28.497536  28.154867  28.242214  175955600   \n",
       "2      2015-06-16  28.578167  28.634159  28.302689  28.450506  125976400   \n",
       "3      2015-06-17  28.510977  28.640876  28.385554  28.605042  131672400   \n",
       "4      2015-06-18  28.640877  28.737183  28.493060  28.495300  141628800   \n",
       "..            ...        ...        ...        ...        ...        ...   \n",
       "98     2015-10-30  26.885180  27.272146  26.873930  27.220400  197461200   \n",
       "99     2015-11-02  27.263149  27.303646  26.909930  27.177657  128813200   \n",
       "100    2015-11-03  27.575872  27.782854  27.155158  27.175407  182076000   \n",
       "101    2015-11-04  27.447636  27.857100  27.362144  27.701863  179544400   \n",
       "102    2015-11-05  27.321100  27.721021  27.153902  27.531228  158210800   \n",
       "\n",
       "Price      MA_100  \n",
       "Ticker             \n",
       "0             NaN  \n",
       "1             NaN  \n",
       "2             NaN  \n",
       "3             NaN  \n",
       "4             NaN  \n",
       "..            ...  \n",
       "98            NaN  \n",
       "99      26.438636  \n",
       "100     26.429576  \n",
       "101     26.419794  \n",
       "102     26.407223  \n",
       "\n",
       "[103 rows x 7 columns]"
      ]
     },
     "execution_count": 21,
     "metadata": {},
     "output_type": "execute_result"
    }
   ],
   "source": [
    "df.head(103)"
   ]
  },
  {
   "cell_type": "code",
   "execution_count": 22,
   "id": "f390d71d-3788-4705-9026-14198a02c36f",
   "metadata": {},
   "outputs": [
    {
     "data": {
      "image/png": "[encoded data removed]",
      "text/plain": [
       "<Figure size 1200x500 with 1 Axes>"
      ]
     },
     "metadata": {},
     "output_type": "display_data"
    }
   ],
   "source": [
    "plt.figure(figsize=(12, 5))\n",
    "plt.plot(df.Close, label='Close Price')\n",
    "plt.plot(df['MA_100'], 'r', label='100-Day MA')\n",
    "plt.title('100 Days Moving Average')\n",
    "plt.xlabel('Days')\n",
    "plt.ylabel('Price')\n",
    "plt.legend()  # 👈 Adds the legend\n",
    "plt.show()"
   ]
  },
  {
   "cell_type": "markdown",
   "id": "09b9a542-5a6b-4d29-ada8-b02098a41732",
   "metadata": {},
   "source": [
    "## 200 days Moving Average"
   ]
  },
  {
   "cell_type": "code",
   "execution_count": 23,
   "id": "981a33fd-ccd9-4999-86f9-9ec10c744ea3",
   "metadata": {},
   "outputs": [
    {
     "data": {
      "text/html": [
       "<div>\n",
       "<style scoped>\n",
       "    .dataframe tbody tr th:only-of-type {\n",
       "        vertical-align: middle;\n",
       "    }\n",
       "\n",
       "    .dataframe tbody tr th {\n",
       "        vertical-align: top;\n",
       "    }\n",
       "\n",
       "    .dataframe thead tr th {\n",
       "        text-align: left;\n",
       "    }\n",
       "</style>\n",
       "<table border=\"1\" class=\"dataframe\">\n",
       "  <thead>\n",
       "    <tr>\n",
       "      <th>Price</th>\n",
       "      <th>Date</th>\n",
       "      <th>Close</th>\n",
       "      <th>High</th>\n",
       "      <th>Low</th>\n",
       "      <th>Open</th>\n",
       "      <th>Volume</th>\n",
       "      <th>MA_100</th>\n",
       "      <th>MA_200</th>\n",
       "    </tr>\n",
       "    <tr>\n",
       "      <th>Ticker</th>\n",
       "      <th></th>\n",
       "      <th>AAPL</th>\n",
       "      <th>AAPL</th>\n",
       "      <th>AAPL</th>\n",
       "      <th>AAPL</th>\n",
       "      <th>AAPL</th>\n",
       "      <th></th>\n",
       "      <th></th>\n",
       "    </tr>\n",
       "  </thead>\n",
       "  <tbody>\n",
       "    <tr>\n",
       "      <th>0</th>\n",
       "      <td>2015-06-12</td>\n",
       "      <td>28.481865</td>\n",
       "      <td>28.741667</td>\n",
       "      <td>28.468427</td>\n",
       "      <td>28.710312</td>\n",
       "      <td>147544800</td>\n",
       "      <td>NaN</td>\n",
       "      <td>NaN</td>\n",
       "    </tr>\n",
       "    <tr>\n",
       "      <th>1</th>\n",
       "      <td>2015-06-15</td>\n",
       "      <td>28.425867</td>\n",
       "      <td>28.497536</td>\n",
       "      <td>28.154867</td>\n",
       "      <td>28.242214</td>\n",
       "      <td>175955600</td>\n",
       "      <td>NaN</td>\n",
       "      <td>NaN</td>\n",
       "    </tr>\n",
       "    <tr>\n",
       "      <th>2</th>\n",
       "      <td>2015-06-16</td>\n",
       "      <td>28.578167</td>\n",
       "      <td>28.634159</td>\n",
       "      <td>28.302689</td>\n",
       "      <td>28.450506</td>\n",
       "      <td>125976400</td>\n",
       "      <td>NaN</td>\n",
       "      <td>NaN</td>\n",
       "    </tr>\n",
       "    <tr>\n",
       "      <th>3</th>\n",
       "      <td>2015-06-17</td>\n",
       "      <td>28.510977</td>\n",
       "      <td>28.640876</td>\n",
       "      <td>28.385554</td>\n",
       "      <td>28.605042</td>\n",
       "      <td>131672400</td>\n",
       "      <td>NaN</td>\n",
       "      <td>NaN</td>\n",
       "    </tr>\n",
       "    <tr>\n",
       "      <th>4</th>\n",
       "      <td>2015-06-18</td>\n",
       "      <td>28.640877</td>\n",
       "      <td>28.737183</td>\n",
       "      <td>28.493060</td>\n",
       "      <td>28.495300</td>\n",
       "      <td>141628800</td>\n",
       "      <td>NaN</td>\n",
       "      <td>NaN</td>\n",
       "    </tr>\n",
       "    <tr>\n",
       "      <th>...</th>\n",
       "      <td>...</td>\n",
       "      <td>...</td>\n",
       "      <td>...</td>\n",
       "      <td>...</td>\n",
       "      <td>...</td>\n",
       "      <td>...</td>\n",
       "      <td>...</td>\n",
       "      <td>...</td>\n",
       "    </tr>\n",
       "    <tr>\n",
       "      <th>198</th>\n",
       "      <td>2016-03-28</td>\n",
       "      <td>23.895979</td>\n",
       "      <td>24.123149</td>\n",
       "      <td>23.866446</td>\n",
       "      <td>24.079986</td>\n",
       "      <td>77645600</td>\n",
       "      <td>23.931770</td>\n",
       "      <td>NaN</td>\n",
       "    </tr>\n",
       "    <tr>\n",
       "      <th>199</th>\n",
       "      <td>2016-03-29</td>\n",
       "      <td>24.461636</td>\n",
       "      <td>24.486624</td>\n",
       "      <td>23.825560</td>\n",
       "      <td>23.827832</td>\n",
       "      <td>124760400</td>\n",
       "      <td>23.903755</td>\n",
       "      <td>25.171196</td>\n",
       "    </tr>\n",
       "    <tr>\n",
       "      <th>200</th>\n",
       "      <td>2016-03-30</td>\n",
       "      <td>24.888710</td>\n",
       "      <td>25.084076</td>\n",
       "      <td>24.670627</td>\n",
       "      <td>24.681987</td>\n",
       "      <td>182404400</td>\n",
       "      <td>23.876883</td>\n",
       "      <td>25.153230</td>\n",
       "    </tr>\n",
       "    <tr>\n",
       "      <th>201</th>\n",
       "      <td>2016-03-31</td>\n",
       "      <td>24.759222</td>\n",
       "      <td>24.965947</td>\n",
       "      <td>24.734233</td>\n",
       "      <td>24.925057</td>\n",
       "      <td>103553600</td>\n",
       "      <td>23.849999</td>\n",
       "      <td>25.134897</td>\n",
       "    </tr>\n",
       "    <tr>\n",
       "      <th>202</th>\n",
       "      <td>2016-04-01</td>\n",
       "      <td>24.986389</td>\n",
       "      <td>24.988661</td>\n",
       "      <td>24.579755</td>\n",
       "      <td>24.711514</td>\n",
       "      <td>103496000</td>\n",
       "      <td>23.826652</td>\n",
       "      <td>25.116938</td>\n",
       "    </tr>\n",
       "  </tbody>\n",
       "</table>\n",
       "<p>203 rows × 8 columns</p>\n",
       "</div>"
      ],
      "text/plain": [
       "Price        Date      Close       High        Low       Open     Volume  \\\n",
       "Ticker                  AAPL       AAPL       AAPL       AAPL       AAPL   \n",
       "0      2015-06-12  28.481865  28.741667  28.468427  28.710312  147544800   \n",
       "1      2015-06-15  28.425867  28.497536  28.154867  28.242214  175955600   \n",
       "2      2015-06-16  28.578167  28.634159  28.302689  28.450506  125976400   \n",
       "3      2015-06-17  28.510977  28.640876  28.385554  28.605042  131672400   \n",
       "4      2015-06-18  28.640877  28.737183  28.493060  28.495300  141628800   \n",
       "..            ...        ...        ...        ...        ...        ...   \n",
       "198    2016-03-28  23.895979  24.123149  23.866446  24.079986   77645600   \n",
       "199    2016-03-29  24.461636  24.486624  23.825560  23.827832  124760400   \n",
       "200    2016-03-30  24.888710  25.084076  24.670627  24.681987  182404400   \n",
       "201    2016-03-31  24.759222  24.965947  24.734233  24.925057  103553600   \n",
       "202    2016-04-01  24.986389  24.988661  24.579755  24.711514  103496000   \n",
       "\n",
       "Price      MA_100     MA_200  \n",
       "Ticker                        \n",
       "0             NaN        NaN  \n",
       "1             NaN        NaN  \n",
       "2             NaN        NaN  \n",
       "3             NaN        NaN  \n",
       "4             NaN        NaN  \n",
       "..            ...        ...  \n",
       "198     23.931770        NaN  \n",
       "199     23.903755  25.171196  \n",
       "200     23.876883  25.153230  \n",
       "201     23.849999  25.134897  \n",
       "202     23.826652  25.116938  \n",
       "\n",
       "[203 rows x 8 columns]"
      ]
     },
     "execution_count": 23,
     "metadata": {},
     "output_type": "execute_result"
    }
   ],
   "source": [
    "df['MA_200'] = df.Close.rolling(200).mean()\n",
    "df.head(203)"
   ]
  },
  {
   "cell_type": "code",
   "execution_count": 24,
   "id": "9a1fade5-7c31-4e88-a21d-b9da07de364e",
   "metadata": {},
   "outputs": [
    {
     "data": {
      "image/png": "[encoded data removed]",
      "text/plain": [
       "<Figure size 1200x500 with 1 Axes>"
      ]
     },
     "metadata": {},
     "output_type": "display_data"
    }
   ],
   "source": [
    "plt.figure(figsize=(12, 5))\n",
    "plt.plot(df.Close, label='Close Price')\n",
    "plt.plot(df['MA_100'], 'r', label='100-Day MA')\n",
    "plt.plot(df['MA_200'], 'g', label='200-Day MA')\n",
    "plt.title('200 Days Moving Average')\n",
    "plt.xlabel('Days')\n",
    "plt.ylabel('Price')\n",
    "plt.legend()  # 👈 This adds the legend to the plot\n",
    "plt.show()"
   ]
  },
  {
   "cell_type": "markdown",
   "id": "d5b4e7b4-860f-4355-83cf-5e27f7e56fcb",
   "metadata": {},
   "source": [
    "## Calculating % changed in each trading session"
   ]
  },
  {
   "cell_type": "code",
   "execution_count": 25,
   "id": "47078244-fc7f-4666-ae57-ea167ad01a90",
   "metadata": {},
   "outputs": [
    {
     "data": {
      "text/html": [
       "<div>\n",
       "<style scoped>\n",
       "    .dataframe tbody tr th:only-of-type {\n",
       "        vertical-align: middle;\n",
       "    }\n",
       "\n",
       "    .dataframe tbody tr th {\n",
       "        vertical-align: top;\n",
       "    }\n",
       "\n",
       "    .dataframe thead tr th {\n",
       "        text-align: left;\n",
       "    }\n",
       "</style>\n",
       "<table border=\"1\" class=\"dataframe\">\n",
       "  <thead>\n",
       "    <tr>\n",
       "      <th>Price</th>\n",
       "      <th>Close</th>\n",
       "      <th>Percentage Chaged</th>\n",
       "    </tr>\n",
       "    <tr>\n",
       "      <th>Ticker</th>\n",
       "      <th>AAPL</th>\n",
       "      <th></th>\n",
       "    </tr>\n",
       "  </thead>\n",
       "  <tbody>\n",
       "    <tr>\n",
       "      <th>0</th>\n",
       "      <td>28.481865</td>\n",
       "      <td>NaN</td>\n",
       "    </tr>\n",
       "    <tr>\n",
       "      <th>1</th>\n",
       "      <td>28.425867</td>\n",
       "      <td>-0.001966</td>\n",
       "    </tr>\n",
       "    <tr>\n",
       "      <th>2</th>\n",
       "      <td>28.578167</td>\n",
       "      <td>0.005358</td>\n",
       "    </tr>\n",
       "    <tr>\n",
       "      <th>3</th>\n",
       "      <td>28.510977</td>\n",
       "      <td>-0.002351</td>\n",
       "    </tr>\n",
       "    <tr>\n",
       "      <th>4</th>\n",
       "      <td>28.640877</td>\n",
       "      <td>0.004556</td>\n",
       "    </tr>\n",
       "    <tr>\n",
       "      <th>...</th>\n",
       "      <td>...</td>\n",
       "      <td>...</td>\n",
       "    </tr>\n",
       "    <tr>\n",
       "      <th>2510</th>\n",
       "      <td>200.630005</td>\n",
       "      <td>-0.010798</td>\n",
       "    </tr>\n",
       "    <tr>\n",
       "      <th>2511</th>\n",
       "      <td>203.919998</td>\n",
       "      <td>0.016398</td>\n",
       "    </tr>\n",
       "    <tr>\n",
       "      <th>2512</th>\n",
       "      <td>201.449997</td>\n",
       "      <td>-0.012113</td>\n",
       "    </tr>\n",
       "    <tr>\n",
       "      <th>2513</th>\n",
       "      <td>202.669998</td>\n",
       "      <td>0.006056</td>\n",
       "    </tr>\n",
       "    <tr>\n",
       "      <th>2514</th>\n",
       "      <td>198.779999</td>\n",
       "      <td>-0.019194</td>\n",
       "    </tr>\n",
       "  </tbody>\n",
       "</table>\n",
       "<p>2515 rows × 2 columns</p>\n",
       "</div>"
      ],
      "text/plain": [
       "Price        Close Percentage Chaged\n",
       "Ticker        AAPL                  \n",
       "0        28.481865               NaN\n",
       "1        28.425867         -0.001966\n",
       "2        28.578167          0.005358\n",
       "3        28.510977         -0.002351\n",
       "4        28.640877          0.004556\n",
       "...            ...               ...\n",
       "2510    200.630005         -0.010798\n",
       "2511    203.919998          0.016398\n",
       "2512    201.449997         -0.012113\n",
       "2513    202.669998          0.006056\n",
       "2514    198.779999         -0.019194\n",
       "\n",
       "[2515 rows x 2 columns]"
      ]
     },
     "execution_count": 25,
     "metadata": {},
     "output_type": "execute_result"
    }
   ],
   "source": [
    "df['Percentage Chaged'] = df.Close.pct_change()\n",
    "df[['Close', 'Percentage Chaged']]"
   ]
  },
  {
   "cell_type": "code",
   "execution_count": 26,
   "id": "06c53049-b5c8-4f52-b89f-24459a1fb868",
   "metadata": {},
   "outputs": [
    {
     "data": {
      "text/plain": [
       "[<matplotlib.lines.Line2D at 0x119c40ab310>]"
      ]
     },
     "execution_count": 26,
     "metadata": {},
     "output_type": "execute_result"
    },
    {
     "data": {
      "image/png": "[encoded data removed]",
      "text/plain": [
       "<Figure size 1200x500 with 1 Axes>"
      ]
     },
     "metadata": {},
     "output_type": "display_data"
    }
   ],
   "source": [
    "plt.figure(figsize=(12, 5))\n",
    "plt.plot(df['Percentage Chaged'])"
   ]
  },
  {
   "cell_type": "markdown",
   "id": "0b8a1e73-1422-4992-acef-a6a0c71d0ae4",
   "metadata": {},
   "source": [
    "# 4. Data Preprocessing"
   ]
  },
  {
   "cell_type": "code",
   "execution_count": 27,
   "id": "74fa5c08-5c5e-42c2-9a0d-9cb19fc6cbd7",
   "metadata": {},
   "outputs": [
    {
     "data": {
      "text/plain": [
       "(2515, 9)"
      ]
     },
     "execution_count": 27,
     "metadata": {},
     "output_type": "execute_result"
    }
   ],
   "source": [
    "df.shape"
   ]
  },
  {
   "cell_type": "code",
   "execution_count": 28,
   "id": "db7ffea8-6b63-4f55-b26d-7a9d45df26f5",
   "metadata": {},
   "outputs": [
    {
     "name": "stdout",
     "output_type": "stream",
     "text": [
      "Ticker        AAPL\n",
      "0        28.481865\n",
      "1        28.425867\n",
      "2        28.578167\n",
      "3        28.510977\n",
      "4        28.640877\n",
      "...            ...\n",
      "1755    146.361893\n",
      "1756    148.822388\n",
      "1757    143.084457\n",
      "1758    143.832458\n",
      "1759    146.361893\n",
      "\n",
      "[1760 rows x 1 columns]\n",
      "Ticker        AAPL\n",
      "1760    145.623688\n",
      "1761    140.387741\n",
      "1762    134.964737\n",
      "1763    129.797638\n",
      "1764    130.663727\n",
      "...            ...\n",
      "2510    200.630005\n",
      "2511    203.919998\n",
      "2512    201.449997\n",
      "2513    202.669998\n",
      "2514    198.779999\n",
      "\n",
      "[755 rows x 1 columns]\n",
      "Ticker        AAPL\n",
      "0        28.481865\n",
      "1        28.425867\n",
      "2        28.578167\n",
      "3        28.510977\n",
      "4        28.640877\n",
      "...            ...\n",
      "1755    146.361893\n",
      "1756    148.822388\n",
      "1757    143.084457\n",
      "1758    143.832458\n",
      "1759    146.361893\n",
      "\n",
      "[1760 rows x 1 columns]\n"
     ]
    }
   ],
   "source": [
    "# Splitting data into Training & Testing datasets\n",
    "data_training = pd.DataFrame(df.Close[0:int(len(df)*0.7)])\n",
    "data_testing = pd.DataFrame(df.Close[int(len(df)*0.7): int(len(df))])\n",
    "\n",
    "print(data_training)\n",
    "print(data_testing)\n",
    "print(data_training)"
   ]
  },
  {
   "cell_type": "code",
   "execution_count": 29,
   "id": "1c2d0bb2-d4ae-4a9e-a8da-e141f081414f",
   "metadata": {},
   "outputs": [
    {
     "data": {
      "text/plain": [
       "pandas.core.frame.DataFrame"
      ]
     },
     "execution_count": 29,
     "metadata": {},
     "output_type": "execute_result"
    }
   ],
   "source": [
    "type(data_training)"
   ]
  },
  {
   "cell_type": "code",
   "execution_count": 30,
   "id": "36e00e5a-d7a8-477f-8b61-79f63d0990cd",
   "metadata": {},
   "outputs": [
    {
     "data": {
      "text/html": [
       "<div>\n",
       "<style scoped>\n",
       "    .dataframe tbody tr th:only-of-type {\n",
       "        vertical-align: middle;\n",
       "    }\n",
       "\n",
       "    .dataframe tbody tr th {\n",
       "        vertical-align: top;\n",
       "    }\n",
       "\n",
       "    .dataframe thead th {\n",
       "        text-align: right;\n",
       "    }\n",
       "</style>\n",
       "<table border=\"1\" class=\"dataframe\">\n",
       "  <thead>\n",
       "    <tr style=\"text-align: right;\">\n",
       "      <th>Ticker</th>\n",
       "      <th>AAPL</th>\n",
       "    </tr>\n",
       "  </thead>\n",
       "  <tbody>\n",
       "    <tr>\n",
       "      <th>0</th>\n",
       "      <td>28.481865</td>\n",
       "    </tr>\n",
       "    <tr>\n",
       "      <th>1</th>\n",
       "      <td>28.425867</td>\n",
       "    </tr>\n",
       "    <tr>\n",
       "      <th>2</th>\n",
       "      <td>28.578167</td>\n",
       "    </tr>\n",
       "    <tr>\n",
       "      <th>3</th>\n",
       "      <td>28.510977</td>\n",
       "    </tr>\n",
       "    <tr>\n",
       "      <th>4</th>\n",
       "      <td>28.640877</td>\n",
       "    </tr>\n",
       "    <tr>\n",
       "      <th>...</th>\n",
       "      <td>...</td>\n",
       "    </tr>\n",
       "    <tr>\n",
       "      <th>1755</th>\n",
       "      <td>146.361893</td>\n",
       "    </tr>\n",
       "    <tr>\n",
       "      <th>1756</th>\n",
       "      <td>148.822388</td>\n",
       "    </tr>\n",
       "    <tr>\n",
       "      <th>1757</th>\n",
       "      <td>143.084457</td>\n",
       "    </tr>\n",
       "    <tr>\n",
       "      <th>1758</th>\n",
       "      <td>143.832458</td>\n",
       "    </tr>\n",
       "    <tr>\n",
       "      <th>1759</th>\n",
       "      <td>146.361893</td>\n",
       "    </tr>\n",
       "  </tbody>\n",
       "</table>\n",
       "<p>1760 rows × 1 columns</p>\n",
       "</div>"
      ],
      "text/plain": [
       "Ticker        AAPL\n",
       "0        28.481865\n",
       "1        28.425867\n",
       "2        28.578167\n",
       "3        28.510977\n",
       "4        28.640877\n",
       "...            ...\n",
       "1755    146.361893\n",
       "1756    148.822388\n",
       "1757    143.084457\n",
       "1758    143.832458\n",
       "1759    146.361893\n",
       "\n",
       "[1760 rows x 1 columns]"
      ]
     },
     "execution_count": 30,
     "metadata": {},
     "output_type": "execute_result"
    }
   ],
   "source": [
    "data_training"
   ]
  },
  {
   "cell_type": "code",
   "execution_count": 31,
   "id": "922bed35-c2ff-4796-aa95-a459e64a5f77",
   "metadata": {},
   "outputs": [
    {
     "data": {
      "text/html": [
       "<div>\n",
       "<style scoped>\n",
       "    .dataframe tbody tr th:only-of-type {\n",
       "        vertical-align: middle;\n",
       "    }\n",
       "\n",
       "    .dataframe tbody tr th {\n",
       "        vertical-align: top;\n",
       "    }\n",
       "\n",
       "    .dataframe thead th {\n",
       "        text-align: right;\n",
       "    }\n",
       "</style>\n",
       "<table border=\"1\" class=\"dataframe\">\n",
       "  <thead>\n",
       "    <tr style=\"text-align: right;\">\n",
       "      <th>Ticker</th>\n",
       "      <th>AAPL</th>\n",
       "    </tr>\n",
       "  </thead>\n",
       "  <tbody>\n",
       "    <tr>\n",
       "      <th>1760</th>\n",
       "      <td>145.623688</td>\n",
       "    </tr>\n",
       "    <tr>\n",
       "      <th>1761</th>\n",
       "      <td>140.387741</td>\n",
       "    </tr>\n",
       "    <tr>\n",
       "      <th>1762</th>\n",
       "      <td>134.964737</td>\n",
       "    </tr>\n",
       "    <tr>\n",
       "      <th>1763</th>\n",
       "      <td>129.797638</td>\n",
       "    </tr>\n",
       "    <tr>\n",
       "      <th>1764</th>\n",
       "      <td>130.663727</td>\n",
       "    </tr>\n",
       "    <tr>\n",
       "      <th>...</th>\n",
       "      <td>...</td>\n",
       "    </tr>\n",
       "    <tr>\n",
       "      <th>2510</th>\n",
       "      <td>200.630005</td>\n",
       "    </tr>\n",
       "    <tr>\n",
       "      <th>2511</th>\n",
       "      <td>203.919998</td>\n",
       "    </tr>\n",
       "    <tr>\n",
       "      <th>2512</th>\n",
       "      <td>201.449997</td>\n",
       "    </tr>\n",
       "    <tr>\n",
       "      <th>2513</th>\n",
       "      <td>202.669998</td>\n",
       "    </tr>\n",
       "    <tr>\n",
       "      <th>2514</th>\n",
       "      <td>198.779999</td>\n",
       "    </tr>\n",
       "  </tbody>\n",
       "</table>\n",
       "<p>755 rows × 1 columns</p>\n",
       "</div>"
      ],
      "text/plain": [
       "Ticker        AAPL\n",
       "1760    145.623688\n",
       "1761    140.387741\n",
       "1762    134.964737\n",
       "1763    129.797638\n",
       "1764    130.663727\n",
       "...            ...\n",
       "2510    200.630005\n",
       "2511    203.919998\n",
       "2512    201.449997\n",
       "2513    202.669998\n",
       "2514    198.779999\n",
       "\n",
       "[755 rows x 1 columns]"
      ]
     },
     "execution_count": 31,
     "metadata": {},
     "output_type": "execute_result"
    }
   ],
   "source": [
    "data_testing"
   ]
  },
  {
   "cell_type": "markdown",
   "id": "304663ff-d564-47ce-9728-73b80f67f365",
   "metadata": {},
   "source": [
    "# Scaling down the data between 0 and 1"
   ]
  },
  {
   "cell_type": "code",
   "execution_count": 32,
   "id": "9b4ce610-f45d-44f5-9576-5e79b4f74e55",
   "metadata": {},
   "outputs": [],
   "source": [
    "from sklearn.preprocessing import MinMaxScaler\n",
    "scaler = MinMaxScaler(feature_range=(0,1))"
   ]
  },
  {
   "cell_type": "code",
   "execution_count": 33,
   "id": "e0f0571c-b093-4eec-ad46-a5709208edd8",
   "metadata": {},
   "outputs": [
    {
     "data": {
      "text/plain": [
       "array([[0.04958543],\n",
       "       [0.04923101],\n",
       "       [0.05019495],\n",
       "       ...,\n",
       "       [0.77492669],\n",
       "       [0.77966092],\n",
       "       [0.79567019]])"
      ]
     },
     "execution_count": 33,
     "metadata": {},
     "output_type": "execute_result"
    }
   ],
   "source": [
    "data_training_array = scaler.fit_transform(data_training)\n",
    "data_training_array"
   ]
  },
  {
   "cell_type": "code",
   "execution_count": 34,
   "id": "b1157818-3458-4b29-85ad-8e7107123efc",
   "metadata": {},
   "outputs": [
    {
     "data": {
      "text/plain": [
       "numpy.ndarray"
      ]
     },
     "execution_count": 34,
     "metadata": {},
     "output_type": "execute_result"
    }
   ],
   "source": [
    "type(data_training_array)"
   ]
  },
  {
   "cell_type": "code",
   "execution_count": 35,
   "id": "234abd37-add5-4b0c-bfd4-999e8491936b",
   "metadata": {},
   "outputs": [
    {
     "data": {
      "text/plain": [
       "(1760, 1)"
      ]
     },
     "execution_count": 35,
     "metadata": {},
     "output_type": "execute_result"
    }
   ],
   "source": [
    "data_training_array.shape"
   ]
  },
  {
   "cell_type": "markdown",
   "id": "22878625-baaf-4efe-bb5b-c7fe3db36527",
   "metadata": {},
   "source": [
    "# 5. Sequence Creation"
   ]
  },
  {
   "cell_type": "code",
   "execution_count": 36,
   "id": "935a098c-4e44-42c9-b8bf-fb8617a82a04",
   "metadata": {},
   "outputs": [],
   "source": [
    "# 12, 15, 10, 14, 16, 18, 19, 20, 21, 20      22"
   ]
  },
  {
   "cell_type": "code",
   "execution_count": null,
   "id": "b184d5dc-81df-4ff8-b488-ed941b6a2cbe",
   "metadata": {},
   "outputs": [],
   "source": []
  },
  {
   "cell_type": "code",
   "execution_count": 37,
   "id": "1f733fe8-d31b-40f6-8dc1-ae6b718a25b2",
   "metadata": {},
   "outputs": [],
   "source": [
    "x_train = []\n",
    "y_train = []\n",
    "\n",
    "for i in range(100, data_training_array.shape[0]):\n",
    "    x_train.append(data_training_array[i-100: i])\n",
    "    y_train.append(data_training_array[i, 0])\n",
    "\n",
    "\n",
    "x_train, y_train = np.array(x_train), np.array(y_train)"
   ]
  },
  {
   "cell_type": "code",
   "execution_count": 38,
   "id": "d36bf9f8-9e1a-4049-b72b-fa030e1dd4a8",
   "metadata": {},
   "outputs": [
    {
     "data": {
      "text/plain": [
       "array([[[0.04958543],\n",
       "        [0.04923101],\n",
       "        [0.05019495],\n",
       "        ...,\n",
       "        [0.04094636],\n",
       "        [0.03947971],\n",
       "        [0.04187195]],\n",
       "\n",
       "       [[0.04923101],\n",
       "        [0.05019495],\n",
       "        [0.04976969],\n",
       "        ...,\n",
       "        [0.03947971],\n",
       "        [0.04187195],\n",
       "        [0.04385124]],\n",
       "\n",
       "       [[0.05019495],\n",
       "        [0.04976969],\n",
       "        [0.05059185],\n",
       "        ...,\n",
       "        [0.04187195],\n",
       "        [0.04385124],\n",
       "        [0.0430396 ]],\n",
       "\n",
       "       ...,\n",
       "\n",
       "       [[0.9389963 ],\n",
       "        [0.95694973],\n",
       "        [0.95974521],\n",
       "        ...,\n",
       "        [0.79647997],\n",
       "        [0.79567019],\n",
       "        [0.81124312]],\n",
       "\n",
       "       [[0.95694973],\n",
       "        [0.95974521],\n",
       "        [0.9389963 ],\n",
       "        ...,\n",
       "        [0.79567019],\n",
       "        [0.81124312],\n",
       "        [0.77492669]],\n",
       "\n",
       "       [[0.95974521],\n",
       "        [0.9389963 ],\n",
       "        [0.94446306],\n",
       "        ...,\n",
       "        [0.81124312],\n",
       "        [0.77492669],\n",
       "        [0.77966092]]])"
      ]
     },
     "execution_count": 38,
     "metadata": {},
     "output_type": "execute_result"
    }
   ],
   "source": [
    "x_train"
   ]
  },
  {
   "cell_type": "code",
   "execution_count": 39,
   "id": "3d7674d0-e6be-48ba-8edb-456568192646",
   "metadata": {},
   "outputs": [
    {
     "data": {
      "text/plain": [
       "array([0.04385124, 0.0430396 , 0.04223874, ..., 0.77492669, 0.77966092,\n",
       "       0.79567019])"
      ]
     },
     "execution_count": 39,
     "metadata": {},
     "output_type": "execute_result"
    }
   ],
   "source": [
    "y_train"
   ]
  },
  {
   "cell_type": "code",
   "execution_count": 40,
   "id": "386c0ba5-984c-4c6e-853b-a3bcd44164c7",
   "metadata": {},
   "outputs": [
    {
     "data": {
      "text/plain": [
       "(1660, 100, 1)"
      ]
     },
     "execution_count": 40,
     "metadata": {},
     "output_type": "execute_result"
    }
   ],
   "source": [
    "x_train.shape"
   ]
  },
  {
   "cell_type": "code",
   "execution_count": 41,
   "id": "a4cbaed5-8e25-4108-b21a-677f855544ac",
   "metadata": {},
   "outputs": [
    {
     "data": {
      "text/plain": [
       "(1660,)"
      ]
     },
     "execution_count": 41,
     "metadata": {},
     "output_type": "execute_result"
    }
   ],
   "source": [
    "y_train.shape"
   ]
  },
  {
   "cell_type": "code",
   "execution_count": 42,
   "id": "86d7b3cc-5b7f-4c28-b535-3878ccfea7a6",
   "metadata": {},
   "outputs": [
    {
     "data": {
      "text/plain": [
       "3"
      ]
     },
     "execution_count": 42,
     "metadata": {},
     "output_type": "execute_result"
    }
   ],
   "source": [
    "x_train.ndim"
   ]
  },
  {
   "cell_type": "markdown",
   "id": "f5b35f3c-c541-4e26-9193-c2c5df8f68a8",
   "metadata": {},
   "source": [
    "# 6. Model Building"
   ]
  },
  {
   "cell_type": "code",
   "execution_count": 43,
   "id": "ac9fe14f-b8c0-4cbe-a42c-1a74756810f0",
   "metadata": {},
   "outputs": [],
   "source": [
    "import tensorflow as tf"
   ]
  },
  {
   "cell_type": "code",
   "execution_count": 44,
   "id": "cb5b65fb-b9ba-42b0-bfa2-e03600fa7ee6",
   "metadata": {},
   "outputs": [
    {
     "name": "stdout",
     "output_type": "stream",
     "text": [
      "2.18.1\n"
     ]
    }
   ],
   "source": [
    "print(tf.__version__)"
   ]
  },
  {
   "cell_type": "code",
   "execution_count": 45,
   "id": "a04523e5-c685-483d-b1e4-429b181c653c",
   "metadata": {},
   "outputs": [],
   "source": [
    "# ML Model\n",
    "from keras.models import Sequential\n",
    "from keras.layers import Dense, LSTM, Input"
   ]
  },
  {
   "cell_type": "code",
   "execution_count": 46,
   "id": "603be1be-95e5-4cbd-b6cc-355e63fd5db0",
   "metadata": {},
   "outputs": [],
   "source": [
    "model = Sequential()\n",
    "\n",
    "model.add(Input(shape=(100, 1)))\n",
    "model.add(LSTM(units=128, activation='tanh', return_sequences=True))\n",
    "model.add(LSTM(units=64))\n",
    "model.add(Dense(25))\n",
    "model.add(Dense(1))"
   ]
  },
  {
   "cell_type": "code",
   "execution_count": null,
   "id": "f11ecd6f-fb94-4394-8bde-cb319e9e18d2",
   "metadata": {},
   "outputs": [],
   "source": []
  },
  {
   "cell_type": "markdown",
   "id": "3430e06c-94b0-48c9-b814-6848464ffe60",
   "metadata": {},
   "source": [
    "# 7. Model Training"
   ]
  },
  {
   "cell_type": "code",
   "execution_count": null,
   "id": "b2e06b28-b05c-43d3-82c5-a591a29340d6",
   "metadata": {},
   "outputs": [
    {
     "name": "stdout",
     "output_type": "stream",
     "text": [
      "Epoch 1/50\n",
      "\u001b[1m52/52\u001b[0m \u001b[32m━━━━━━━━━━━━━━━━━━━━\u001b[0m\u001b[37m\u001b[0m \u001b[1m21s\u001b[0m 194ms/step - loss: 0.0330\n",
      "Epoch 2/50\n",
      "\u001b[1m52/52\u001b[0m \u001b[32m━━━━━━━━━━━━━━━━━━━━\u001b[0m\u001b[37m\u001b[0m \u001b[1m11s\u001b[0m 217ms/step - loss: 4.6624e-04\n",
      "Epoch 3/50\n",
      "\u001b[1m12/52\u001b[0m \u001b[32m━━━━\u001b[0m\u001b[37m━━━━━━━━━━━━━━━━\u001b[0m \u001b[1m8s\u001b[0m 208ms/step - loss: 3.5379e-04 "
     ]
    }
   ],
   "source": [
    "model.compile(optimizer='adam', loss='mean_squared_error')\n",
    "model.fit(x_train, y_train, epochs=50)"
   ]
  },
  {
   "cell_type": "code",
   "execution_count": null,
   "id": "75f23d63-1ab4-4ebb-9ff9-0132bbc76af3",
   "metadata": {},
   "outputs": [],
   "source": [
    "model.summary()"
   ]
  },
  {
   "cell_type": "code",
   "execution_count": null,
   "id": "1f75ae53-9a89-4667-a535-ebc61cce4407",
   "metadata": {},
   "outputs": [],
   "source": [
    "# Save the trained model\n",
    "model.save('stock_prediction_model.keras')"
   ]
  },
  {
   "cell_type": "code",
   "execution_count": null,
   "id": "ece5710b-43c5-46ac-ba8a-d9207b1346ec",
   "metadata": {},
   "outputs": [],
   "source": []
  },
  {
   "cell_type": "markdown",
   "id": "9ac58d8f-0d0e-4092-b75d-549ee8a5bd90",
   "metadata": {},
   "source": [
    "# 8. Preparing Test Data"
   ]
  },
  {
   "cell_type": "code",
   "execution_count": null,
   "id": "86a2f9db-7f4f-431c-80b1-813206290607",
   "metadata": {},
   "outputs": [],
   "source": [
    "data_training.tail(100)"
   ]
  },
  {
   "cell_type": "code",
   "execution_count": null,
   "id": "1a38915a-95e9-4ad6-a7c8-15a1aeef0d0d",
   "metadata": {},
   "outputs": [],
   "source": [
    "data_testing"
   ]
  },
  {
   "cell_type": "code",
   "execution_count": null,
   "id": "27f8d24c-2f54-49c1-a1dd-bf418bfba4e5",
   "metadata": {},
   "outputs": [],
   "source": [
    "past_100_days = data_training.tail(100)"
   ]
  },
  {
   "cell_type": "code",
   "execution_count": null,
   "id": "272b828e-2c04-4e61-9e95-27478026968c",
   "metadata": {},
   "outputs": [],
   "source": [
    "past_100_days"
   ]
  },
  {
   "cell_type": "code",
   "execution_count": null,
   "id": "9c1e293b-4ced-4aab-b630-f274ac6f6373",
   "metadata": {},
   "outputs": [],
   "source": [
    "final_df = pd.concat([past_100_days, data_testing], ignore_index=True)\n",
    "final_df"
   ]
  },
  {
   "cell_type": "code",
   "execution_count": null,
   "id": "182d05c4-84d0-4c90-878e-022f1fd25fbf",
   "metadata": {},
   "outputs": [],
   "source": [
    "input_data = scaler.fit_transform(final_df)\n",
    "input_data"
   ]
  },
  {
   "cell_type": "code",
   "execution_count": null,
   "id": "6760281c-bcd2-418a-b3bf-2d99d514acf5",
   "metadata": {},
   "outputs": [],
   "source": [
    "input_data.shape"
   ]
  },
  {
   "cell_type": "code",
   "execution_count": null,
   "id": "be5c9fc5-1421-4d1c-aea2-31697d609edf",
   "metadata": {},
   "outputs": [],
   "source": [
    "x_test = []\n",
    "y_test = []\n",
    "\n",
    "for i in range(100, input_data.shape[0]):\n",
    "    x_test.append(input_data[i-100: i])\n",
    "    y_test.append(input_data[i, 0])"
   ]
  },
  {
   "cell_type": "code",
   "execution_count": null,
   "id": "6d37d118-73a4-4b4f-84df-1f318ab3cd9c",
   "metadata": {},
   "outputs": [],
   "source": [
    "x_test, y_test = np.array(x_test), np.array(y_test)"
   ]
  },
  {
   "cell_type": "code",
   "execution_count": null,
   "id": "d3a40cd5-4bbe-413b-8cee-1892fc020e97",
   "metadata": {},
   "outputs": [],
   "source": [
    "x_test[0].shape"
   ]
  },
  {
   "cell_type": "code",
   "execution_count": null,
   "id": "aec02128-5c0a-447e-9ad3-6360f853503c",
   "metadata": {},
   "outputs": [],
   "source": [
    "x_test"
   ]
  },
  {
   "cell_type": "code",
   "execution_count": null,
   "id": "c79bdc4a-b3ed-4949-99b2-cbbe0e764ce0",
   "metadata": {},
   "outputs": [],
   "source": [
    "y_test"
   ]
  },
  {
   "cell_type": "markdown",
   "id": "709c9e4a-8024-4fbb-b726-05893cb52506",
   "metadata": {},
   "source": [
    "# 9. Making Predictions"
   ]
  },
  {
   "cell_type": "code",
   "execution_count": null,
   "id": "030070a8-3fd0-4553-a343-d85d04e7dcce",
   "metadata": {},
   "outputs": [],
   "source": [
    "y_predicted = model.predict(x_test)"
   ]
  },
  {
   "cell_type": "code",
   "execution_count": null,
   "id": "671e3c97-2b18-403f-b7a4-753d881a6aac",
   "metadata": {},
   "outputs": [],
   "source": [
    "y_predicted"
   ]
  },
  {
   "cell_type": "code",
   "execution_count": null,
   "id": "f3a3ddbf-96c0-4406-8a96-3248d5fd6797",
   "metadata": {},
   "outputs": [],
   "source": [
    "y_test"
   ]
  },
  {
   "cell_type": "code",
   "execution_count": null,
   "id": "57b09fc7-7014-47be-b61d-013a67d897da",
   "metadata": {},
   "outputs": [],
   "source": [
    "y_predicted = scaler.inverse_transform(y_predicted.reshape(-1, 1)).flatten()\n",
    "y_test = scaler.inverse_transform(y_test.reshape(-1, 1)).flatten()"
   ]
  },
  {
   "cell_type": "code",
   "execution_count": null,
   "id": "9e0ac8fe-c2ab-4647-a204-1ec71ec40211",
   "metadata": {},
   "outputs": [],
   "source": [
    "y_predicted"
   ]
  },
  {
   "cell_type": "code",
   "execution_count": null,
   "id": "3e122da6-19db-4696-a996-3af0b7f22b15",
   "metadata": {},
   "outputs": [],
   "source": [
    "y_test"
   ]
  },
  {
   "cell_type": "code",
   "execution_count": null,
   "id": "6d8db618-d2fd-4854-9fd1-0215f6cb9ce5",
   "metadata": {},
   "outputs": [],
   "source": [
    "plt.figure(figsize=(12, 6))\n",
    "plt.plot(y_test, 'b', label='Original Price')\n",
    "plt.plot(y_predicted, 'r', label='Predicted Price')\n",
    "plt.xlabel('Days')\n",
    "plt.ylabel('Price')\n",
    "plt.legend()"
   ]
  },
  {
   "cell_type": "code",
   "execution_count": null,
   "id": "8f987fc3-701a-46cf-8702-3a4fdb96d874",
   "metadata": {},
   "outputs": [],
   "source": [
    "plt.figure(figsize=(12, 6))\n",
    "plt.plot(y_test, 'b', label='Original Price')\n",
    "plt.plot(y_predicted, 'r', label='Predicted Price')\n",
    "plt.xlabel('Days')\n",
    "plt.ylabel('Price')\n",
    "plt.legend()\n",
    "plt.xlim(450, 750)\n",
    "plt.ylim(140, 220)"
   ]
  },
  {
   "cell_type": "markdown",
   "id": "45ada075-154b-435d-9140-e6fefbcadb9b",
   "metadata": {},
   "source": [
    "# 10. Model Evaluation"
   ]
  },
  {
   "cell_type": "code",
   "execution_count": null,
   "id": "9455789d-5b0b-4bc2-8844-534e74ff2782",
   "metadata": {},
   "outputs": [],
   "source": [
    "# Mean Squared Error (MSE)\n",
    "from sklearn.metrics import mean_squared_error, r2_score"
   ]
  },
  {
   "cell_type": "code",
   "execution_count": null,
   "id": "100242f9-2ad9-486b-8731-389b10d45b34",
   "metadata": {},
   "outputs": [],
   "source": [
    "mse = mean_squared_error(y_test, y_predicted)\n",
    "print(f\"Mean Squared Error (MSE): {mse}\")"
   ]
  },
  {
   "cell_type": "code",
   "execution_count": null,
   "id": "37b57567-9fdd-49e1-b8fd-db4f3fda5853",
   "metadata": {},
   "outputs": [],
   "source": []
  },
  {
   "cell_type": "code",
   "execution_count": null,
   "id": "8b4b8609-efce-451e-b11b-495d8d81808d",
   "metadata": {},
   "outputs": [],
   "source": [
    "# Root Mean Squared Error (RMSE)\n",
    "rmse = np.sqrt(mse)\n",
    "print(f\"Root Mean Squared Error (RMSE): {rmse}\")"
   ]
  },
  {
   "cell_type": "code",
   "execution_count": null,
   "id": "06d0577a-5eab-4206-9b48-60ef6b04d79b",
   "metadata": {},
   "outputs": [],
   "source": []
  },
  {
   "cell_type": "code",
   "execution_count": null,
   "id": "ece01855-b9be-406b-8905-2d4210794613",
   "metadata": {},
   "outputs": [],
   "source": [
    "# R-Squared\n",
    "r2 = r2_score(y_test, y_predicted)\n",
    "print(f\"R-Squared: {r2}\")"
   ]
  },
  {
   "cell_type": "code",
   "execution_count": null,
   "id": "97a95271-e360-476d-ae64-71b046160bfa",
   "metadata": {},
   "outputs": [],
   "source": []
  }
 ],
 "metadata": {
  "kernelspec": {
   "display_name": "Python 3 (ipykernel)",
   "language": "python",
   "name": "python3"
  },
  "language_info": {
   "codemirror_mode": {
    "name": "ipython",
    "version": 3
   },
   "file_extension": ".py",
   "mimetype": "text/x-python",
   "name": "python",
   "nbconvert_exporter": "python",
   "pygments_lexer": "ipython3",
   "version": "3.10.18"
  }
 },
 "nbformat": 4,
 "nbformat_minor": 5
}
