{
 "cells": [
  {
   "cell_type": "code",
   "execution_count": null,
   "id": "0ef40fc7-31c3-4dcf-8a26-36304c11fc94",
   "metadata": {},
   "outputs": [],
   "source": []
  }
 ],
 "metadata": {
  "kernelspec": {
   "display_name": "",
   "name": ""
  },
  "language_info": {
   "name": ""
  }
 },
 "nbformat": 4,
 "nbformat_minor": 5
}
